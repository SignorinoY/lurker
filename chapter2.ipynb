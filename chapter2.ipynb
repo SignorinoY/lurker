{
 "cells": [
  {
   "cell_type": "code",
   "execution_count": 1,
   "metadata": {},
   "outputs": [],
   "source": [
    "import numpy as np\n",
    "import matplotlib.pyplot as plt"
   ]
  },
  {
   "cell_type": "markdown",
   "metadata": {},
   "source": [
    "# 线搜索方法"
   ]
  },
  {
   "cell_type": "code",
   "execution_count": 2,
   "metadata": {},
   "outputs": [],
   "source": [
    "def unconstrained_optimize(f, x0, epsilon=1e-8, max_iter=1000):\n",
    "    x = np.zeros((max_iter+1, x0.shape[0]))  # 定义 x 初始存储空间\n",
    "\n",
    "    x[0] = x0\n",
    "    for k in range(max_iter):\n",
    "        d = search_desc_direction(f, x[k], ...)  # 确定下降方向\n",
    "\n",
    "        def phi(alpha): return f(x[k] + alpha * d)\n",
    "        alpha = search_step_length(phi, ...)  # 确定最优步长\n",
    "\n",
    "        x[k+1] = x[k] + alpha * d\n",
    "\n",
    "        # if np.linalg.norm(g(x[k+1])) <= epsilon:\n",
    "        # if f(x[k]) - f(x[k+1]) <= epsilon:\n",
    "        if np.linalg.norm(x[k] - x[k+1]) <= epsilon:\n",
    "            break\n",
    "\n",
    "    return x[k+1], f(x[k+1])"
   ]
  },
  {
   "cell_type": "markdown",
   "metadata": {},
   "source": [
    "## 精确线搜索方法"
   ]
  },
  {
   "cell_type": "markdown",
   "metadata": {},
   "source": [
    "为了更好地说明算法，我们考虑书中一道习题$$\\phi(\\alpha)=1-\\alpha\\mathrm{exp}\\left(-\\alpha^{2}\\right)$$"
   ]
  },
  {
   "cell_type": "code",
   "execution_count": 3,
   "metadata": {},
   "outputs": [],
   "source": [
    "def phi(alpha):\n",
    "    return 1 - alpha * np.exp(- alpha ** 2)"
   ]
  },
  {
   "cell_type": "code",
   "execution_count": 4,
   "metadata": {},
   "outputs": [
    {
     "data": {
      "image/png": "[encoded data removed]",
      "text/plain": [
       "<Figure size 432x288 with 1 Axes>"
      ]
     },
     "metadata": {
      "needs_background": "light"
     },
     "output_type": "display_data"
    }
   ],
   "source": [
    "alphas = np.linspace(0, 5, 1000)\n",
    "phis = phi(alphas)\n",
    "\n",
    "plt.plot(alphas, phis)\n",
    "plt.show()\n",
    "# plt.savefig(\"./figures/exercise-2.8.png\", dpi=300)"
   ]
  },
  {
   "cell_type": "markdown",
   "metadata": {},
   "source": [
    "### 确定步长搜索区间"
   ]
  },
  {
   "cell_type": "code",
   "execution_count": 5,
   "metadata": {},
   "outputs": [],
   "source": [
    "def search_unimodal_interval(phi, alpha0, gamma=0.1, t=2, max_iter=1000):\n",
    "    alphas = np.zeros(max_iter + 1)\n",
    "\n",
    "    alphas[0] = alpha0\n",
    "    for i in range(max_iter):\n",
    "        alphas[i+1] = alphas[i] + gamma\n",
    "\n",
    "        print(\"Iter %02d: alpha %.2f, phi %.2f, gamma %.2f\" %\n",
    "              (i+1, alphas[i+1], phi(alphas[i+1]), gamma))\n",
    "        if phi(alphas[i+1]) >= phi(alphas[i]) or alphas[i+1] <= 0:\n",
    "            if i == 0:\n",
    "                gamma = -gamma\n",
    "                alpha = alphas[i+1]\n",
    "            else:\n",
    "                break\n",
    "        else:\n",
    "            gamma = t * gamma\n",
    "            alpha = alphas[i]\n",
    "            alphas[i] = alphas[i+1]\n",
    "\n",
    "    return min(alpha, alphas[i+1]), max(alpha, alphas[i+1])"
   ]
  },
  {
   "cell_type": "code",
   "execution_count": 6,
   "metadata": {},
   "outputs": [
    {
     "name": "stdout",
     "output_type": "stream",
     "text": [
      "Iter 01: alpha 0.10, phi 0.90, gamma 0.10\n",
      "Iter 02: alpha 0.30, phi 0.73, gamma 0.20\n",
      "Iter 03: alpha 0.70, phi 0.57, gamma 0.40\n",
      "Iter 04: alpha 1.50, phi 0.84, gamma 0.80\n",
      "Final interval is [0.30, 1.50]\n"
     ]
    }
   ],
   "source": [
    "a, b = search_unimodal_interval(phi, 0)\n",
    "print(\"Final interval is [%.2f, %.2f]\" % (a, b))"
   ]
  },
  {
   "cell_type": "code",
   "execution_count": 7,
   "metadata": {},
   "outputs": [
    {
     "name": "stdout",
     "output_type": "stream",
     "text": [
      "Iter 01: alpha 1.10, phi 0.67, gamma 0.10\n",
      "Iter 02: alpha 1.00, phi 0.63, gamma -0.10\n",
      "Iter 03: alpha 0.80, phi 0.58, gamma -0.20\n",
      "Iter 04: alpha 0.40, phi 0.66, gamma -0.40\n",
      "Final interval is [0.40, 1.00]\n"
     ]
    }
   ],
   "source": [
    "a, b = search_unimodal_interval(phi, 1)\n",
    "print(\"Final interval is [%.2f, %.2f]\" % (a, b))"
   ]
  },
  {
   "cell_type": "code",
   "execution_count": 8,
   "metadata": {},
   "outputs": [],
   "source": [
    "def search_unimodal_interval_adv(phi, alpha0, gamma=0.1, t=2, max_iter=1000):\n",
    "    alpha_old = alpha0\n",
    "    phi_alpha_old = phi(alpha_old)\n",
    "    for i in range(max_iter):\n",
    "        alpha = alpha_old + gamma\n",
    "        phi_alpha = phi(alpha)\n",
    "\n",
    "        if phi_alpha >= phi_alpha_old or alpha <= 0:\n",
    "            if i == 0:\n",
    "                gamma = -gamma\n",
    "                alpha_other = alpha\n",
    "            else:\n",
    "                break\n",
    "        else:\n",
    "            gamma = t * gamma\n",
    "            alpha_other = alpha_old\n",
    "        \n",
    "        alpha_old = alpha\n",
    "        phi_alpha_old = phi_alpha\n",
    "\n",
    "    return min(alpha_other, alpha), max(alpha_other, alpha)"
   ]
  },
  {
   "cell_type": "code",
   "execution_count": 9,
   "metadata": {},
   "outputs": [
    {
     "name": "stdout",
     "output_type": "stream",
     "text": [
      "Final interval is [0.30, 1.50]\n"
     ]
    }
   ],
   "source": [
    "a, b = search_unimodal_interval_adv(phi, 0)\n",
    "print(\"Final interval is [%.2f, %.2f]\" % (a, b))"
   ]
  },
  {
   "cell_type": "code",
   "execution_count": 10,
   "metadata": {},
   "outputs": [
    {
     "name": "stdout",
     "output_type": "stream",
     "text": [
      "Final interval is [0.40, 1.00]\n"
     ]
    }
   ],
   "source": [
    "a, b = search_unimodal_interval_adv(phi, 1)\n",
    "print(\"Final interval is [%.2f, %.2f]\" % (a, b))"
   ]
  },
  {
   "cell_type": "markdown",
   "metadata": {},
   "source": [
    "### 缩小步长搜索区间"
   ]
  },
  {
   "cell_type": "code",
   "execution_count": 11,
   "metadata": {},
   "outputs": [],
   "source": [
    "def search_step_length_gold(phi, a0, b0, epsilon=1e-8, max_iter=1000):\n",
    "    a, b = np.empty(max_iter + 1), np.empty(max_iter + 1)\n",
    "\n",
    "    a[0], b[0] = a0, b0\n",
    "    tau = (np.sqrt(5) - 1) / 2\n",
    "    for i in range(max_iter):\n",
    "        a_l = a[i] + (1 - tau) * (b[i] - a[i])\n",
    "        a_r = a[i] + tau * (b[i] - a[i])\n",
    "        if phi(a_l) < phi(a_r):\n",
    "            a[i+1], b[i+1] = a[i], a_r\n",
    "        else:\n",
    "            a[i+1], b[i+1] = a_l, b[i]\n",
    "\n",
    "        print(\"Iter %02d: a (%.2f, %.2f), a_l (%.2f, %.2f), a_r (%.2f, %.2f), b (%.2f, %.2f)\" % (\n",
    "            i, a[i], phi(a[i]), a_l, phi(a_l), a_r, phi(a_r), b[i], phi(b[i])))\n",
    "        if b[i+1] - a[i+1] < epsilon:\n",
    "            break\n",
    "    return (a[i+1] + b[i+1]) / 2\n"
   ]
  },
  {
   "cell_type": "code",
   "execution_count": 12,
   "metadata": {},
   "outputs": [
    {
     "name": "stdout",
     "output_type": "stream",
     "text": [
      "Iter 01: alpha 0.10, phi 0.90, gamma 0.10\n",
      "Iter 02: alpha 0.30, phi 0.73, gamma 0.20\n",
      "Iter 03: alpha 0.70, phi 0.57, gamma 0.40\n",
      "Iter 04: alpha 1.50, phi 0.84, gamma 0.80\n",
      "Final interval is [0.30, 1.50]\n",
      "**************************************************\n",
      "Iter 00: a (0.30, 0.73), a_l (0.76, 0.57), a_r (1.04, 0.65), b (1.50, 0.84)\n",
      "Iter 01: a (0.30, 0.73), a_l (0.58, 0.58), a_r (0.76, 0.57), b (1.04, 0.65)\n",
      "Iter 02: a (0.58, 0.58), a_l (0.76, 0.57), a_r (0.87, 0.59), b (1.04, 0.65)\n",
      "Iter 03: a (0.58, 0.58), a_l (0.69, 0.57), a_r (0.76, 0.57), b (0.87, 0.59)\n",
      "Iter 04: a (0.58, 0.58), a_l (0.65, 0.57), a_r (0.69, 0.57), b (0.76, 0.57)\n",
      "Iter 05: a (0.65, 0.57), a_l (0.69, 0.57), a_r (0.72, 0.57), b (0.76, 0.57)\n",
      "Iter 06: a (0.69, 0.57), a_l (0.72, 0.57), a_r (0.73, 0.57), b (0.76, 0.57)\n",
      "Iter 07: a (0.69, 0.57), a_l (0.71, 0.57), a_r (0.72, 0.57), b (0.73, 0.57)\n",
      "Iter 08: a (0.69, 0.57), a_l (0.70, 0.57), a_r (0.71, 0.57), b (0.72, 0.57)\n",
      "Iter 09: a (0.70, 0.57), a_l (0.71, 0.57), a_r (0.71, 0.57), b (0.72, 0.57)\n",
      "Optimal alpha is 0.71\n"
     ]
    }
   ],
   "source": [
    "a, b = search_unimodal_interval(phi, 0)\n",
    "print(\"Final interval is [%.2f, %.2f]\" % (a, b))\n",
    "print(\"*\"*50)\n",
    "alpha = search_step_length_gold(phi, a, b, epsilon=1e-2)\n",
    "print(\"Optimal alpha is %.2f\" % (alpha))\n"
   ]
  },
  {
   "cell_type": "code",
   "execution_count": 13,
   "metadata": {},
   "outputs": [],
   "source": [
    "def search_step_length_gold_adv(phi, a0, b0, epsilon=1e-8, max_iter=1000):\n",
    "    tau = (np.sqrt(5) - 1) / 2\n",
    "    a, b = a0, b0\n",
    "    phi_a, phi_b = phi(a), phi(b)\n",
    "    for i in range(max_iter):\n",
    "        a_l = a + (1 - tau) * (b - a)\n",
    "        a_r = a + tau * (b - a)\n",
    "        \n",
    "        # !TODO\n",
    "        if phi(a_l) < phi(a_r):\n",
    "            a, b = a, a_r\n",
    "        else:\n",
    "            a, b = a_l, b\n",
    "        if b - a < epsilon:\n",
    "            break\n",
    "    return (a + b) / 2\n"
   ]
  },
  {
   "cell_type": "code",
   "execution_count": 14,
   "metadata": {},
   "outputs": [
    {
     "name": "stdout",
     "output_type": "stream",
     "text": [
      "Final interval is [0.30, 1.50]\n",
      "**************************************************\n",
      "Optimal alpha is 0.71\n"
     ]
    }
   ],
   "source": [
    "a, b = search_unimodal_interval_adv(phi, 0)\n",
    "print(\"Final interval is [%.2f, %.2f]\" % (a, b))\n",
    "print(\"*\"*50)\n",
    "alpha = search_step_length_gold_adv(phi, a, b, epsilon=1e-2)\n",
    "print(\"Optimal alpha is %.2f\" % (alpha))"
   ]
  },
  {
   "cell_type": "code",
   "execution_count": 15,
   "metadata": {},
   "outputs": [],
   "source": [
    "def search_step_length_poly32(phi, a0, b0, epsilon=1e-8, max_iter=1000):\n",
    "    a, b, c = np.empty(max_iter + 1), np.empty(max_iter +\n",
    "                                               1), np.empty(max_iter + 1)\n",
    "\n",
    "    a[0], c[0], b[0] = a0, (a0 + b0) / 2, b0\n",
    "    for i in range(max_iter):\n",
    "        c1 = (phi(c[i]) - phi(a[i])) / (c[i] - a[i])\n",
    "        c2 = ((phi(b[i]) - phi(a[i])) / (b[i] - a[i]) - c1) / (b[i] - c[i])\n",
    "        alpha_p = 0.5 * (a[i] + b[i] - c1 / c2)\n",
    "        if phi(c[i]) <= phi(alpha_p):\n",
    "            if c[i] <= alpha_p:\n",
    "                a[i+1], c[i+1], b[i+1] = a[i], c[i], alpha_p\n",
    "            else:\n",
    "                a[i+1], c[i+1], b[i+1] = alpha_p, c[i], b[i]\n",
    "        else:\n",
    "            if c[i] <= alpha_p:\n",
    "                a[i+1], c[i+1], b[i+1] = c[i], alpha_p, b[i]\n",
    "            else:\n",
    "                a[i+1], c[i+1], b[i+1] = a[i], alpha_p, c[i]\n",
    "\n",
    "        print(\"Iter %02d: (%.2f, %.2f, %.2f), optimal alpha %.2f\" %\n",
    "              (i, a[i+1], c[i+1], b[i+1], alpha_p))\n",
    "        if c[i+1] - a[i+1] < epsilon:\n",
    "            break\n",
    "\n",
    "    return alpha_p\n"
   ]
  },
  {
   "cell_type": "code",
   "execution_count": 16,
   "metadata": {},
   "outputs": [
    {
     "name": "stdout",
     "output_type": "stream",
     "text": [
      "Iter 01: alpha 0.10, phi 0.90, gamma 0.10\n",
      "Iter 02: alpha 0.30, phi 0.73, gamma 0.20\n",
      "Iter 03: alpha 0.70, phi 0.57, gamma 0.40\n",
      "Iter 04: alpha 1.50, phi 0.84, gamma 0.80\n",
      "Final interval is [0.30, 1.50]\n",
      "**************************************************\n",
      "Iter 00: (0.30, 0.90, 1.11), optimal alpha 1.11\n",
      "Iter 01: (0.30, 0.85, 0.90), optimal alpha 0.85\n",
      "Iter 02: (0.30, 0.75, 0.85), optimal alpha 0.75\n",
      "Iter 03: (0.30, 0.75, 0.77), optimal alpha 0.77\n",
      "Iter 04: (0.30, 0.72, 0.75), optimal alpha 0.72\n",
      "Iter 05: (0.30, 0.72, 0.73), optimal alpha 0.73\n",
      "Iter 06: (0.30, 0.71, 0.72), optimal alpha 0.71\n",
      "Iter 07: (0.30, 0.71, 0.71), optimal alpha 0.71\n",
      "Iter 08: (0.30, 0.71, 0.71), optimal alpha 0.71\n",
      "Iter 09: (0.30, 0.71, 0.71), optimal alpha 0.71\n",
      "Iter 10: (0.30, 0.71, 0.71), optimal alpha 0.71\n",
      "Iter 11: (0.30, 0.71, 0.71), optimal alpha 0.71\n",
      "Iter 12: (0.30, 0.71, 0.71), optimal alpha 0.71\n",
      "Iter 13: (0.30, 0.71, 0.71), optimal alpha 0.71\n",
      "Iter 14: (0.30, 0.71, 0.71), optimal alpha 0.71\n",
      "Iter 15: (0.30, 0.71, 0.71), optimal alpha 0.71\n",
      "Iter 16: (0.30, 0.71, 0.71), optimal alpha 0.71\n",
      "Iter 17: (0.30, 0.71, 0.71), optimal alpha 0.71\n",
      "Iter 18: (0.30, 0.71, 0.71), optimal alpha 0.71\n",
      "Iter 19: (0.30, 0.71, 0.71), optimal alpha 0.71\n",
      "Iter 20: (0.30, 0.71, 0.71), optimal alpha 0.71\n",
      "Iter 21: (0.30, 0.71, 0.71), optimal alpha 0.71\n",
      "Iter 22: (0.30, 0.71, 0.71), optimal alpha 0.71\n",
      "Iter 23: (0.30, 0.71, 0.71), optimal alpha 0.71\n",
      "Iter 24: (0.30, 0.71, 0.71), optimal alpha 0.71\n",
      "Iter 25: (0.30, 0.71, 0.71), optimal alpha 0.71\n",
      "Iter 26: (0.30, 0.71, 0.71), optimal alpha 0.71\n",
      "Iter 27: (0.30, 0.71, 0.71), optimal alpha 0.71\n",
      "Iter 28: (0.30, 0.71, 0.71), optimal alpha 0.71\n",
      "Iter 29: (0.30, 0.71, 0.71), optimal alpha 0.71\n",
      "Iter 30: (0.30, 0.71, 0.71), optimal alpha 0.71\n",
      "Iter 31: (0.30, 0.71, 0.71), optimal alpha 0.71\n",
      "Iter 32: (0.30, 0.71, 0.71), optimal alpha 0.71\n",
      "Iter 33: (0.30, 0.71, 0.71), optimal alpha 0.71\n",
      "Iter 34: (0.71, 0.71, 0.71), optimal alpha 0.71\n",
      "Optimal alpha is 0.71\n"
     ]
    }
   ],
   "source": [
    "a, b = search_unimodal_interval(phi, 0)\n",
    "print(\"Final interval is [%.2f, %.2f]\" % (a, b))\n",
    "print(\"*\"*50)\n",
    "alpha = search_step_length_poly32(phi, a, b, epsilon=1e-2)\n",
    "print(\"Optimal alpha is %.2f\" % (alpha))\n"
   ]
  },
  {
   "cell_type": "code",
   "execution_count": 17,
   "metadata": {},
   "outputs": [],
   "source": [
    "def search_step_length_poly32_adv(phi, a0, b0, epsilon=1e-8, max_iter=1000):\n",
    "\n",
    "    a, c, b = a0, (a0 + b0) / 2, b0\n",
    "    phi_a, phi_c, phi_b = phi(a), phi(c), phi(b)\n",
    "    for i in range(max_iter):\n",
    "        c1 = (phi_c - phi_a) / (c - a)\n",
    "        c2 = ((phi_b - phi_a) / (b - a) - c1) / (b - c)\n",
    "        alpha_p = 0.5 * (a + b - c1 / c2)\n",
    "        phi_p = phi(alpha_p)\n",
    "        if phi_c <= phi_p:\n",
    "            if c <= alpha_p:\n",
    "                a, c, b = a, c, alpha_p\n",
    "                phi_a, phi_c, phi_b = phi_a, phi_c, phi_p\n",
    "            else:\n",
    "                a, c, b = alpha_p, c, b\n",
    "                phi_a, phi_c, phi_b = phi_p, phi_c, phi_b\n",
    "        else:\n",
    "            if c <= alpha_p:\n",
    "                a, c, b = c, alpha_p, b\n",
    "                phi_a, phi_c, phi_b = phi_c, phi_p, phi_b\n",
    "            else:\n",
    "                a, c, b = a, alpha_p, c\n",
    "                phi_a, phi_c, phi_b = phi_a, phi_p, phi_c\n",
    "\n",
    "        if c - a < epsilon:\n",
    "            break\n",
    "\n",
    "    return alpha_p"
   ]
  },
  {
   "cell_type": "code",
   "execution_count": 18,
   "metadata": {},
   "outputs": [
    {
     "name": "stdout",
     "output_type": "stream",
     "text": [
      "Final interval is [0.30, 1.50]\n",
      "**************************************************\n",
      "Optimal alpha is 0.71\n"
     ]
    }
   ],
   "source": [
    "a, b = search_unimodal_interval_adv(phi, 0)\n",
    "print(\"Final interval is [%.2f, %.2f]\" % (a, b))\n",
    "print(\"*\"*50)\n",
    "alpha = search_step_length_poly32_adv(phi, a, b, epsilon=1e-2)\n",
    "print(\"Optimal alpha is %.2f\" % (alpha))"
   ]
  },
  {
   "cell_type": "markdown",
   "metadata": {},
   "source": [
    "### 牛顿切线法"
   ]
  },
  {
   "cell_type": "code",
   "execution_count": 19,
   "metadata": {},
   "outputs": [],
   "source": [
    "def search_step_length_newton(phi, phi_grad, phi_hess, alpha0, epsilon=1e-8, max_iter=1000):\n",
    "    alpha = np.empty(max_iter + 1)\n",
    "\n",
    "    alpha[0] = alpha0\n",
    "    for i in range(max_iter):\n",
    "        alpha[i+1] = alpha[i] - phi_grad(alpha[i]) / phi_hess(alpha[i])\n",
    "\n",
    "        print(\"Iter %02d: alpha %.2f\" % (i, alpha[i+1]))\n",
    "        if abs(alpha[i+1] - alpha[i]) < epsilon:\n",
    "            break\n",
    "\n",
    "    return alpha[i+1]\n"
   ]
  },
  {
   "cell_type": "code",
   "execution_count": 20,
   "metadata": {},
   "outputs": [],
   "source": [
    "def search_step_length_newton_adv(phi, phi_grad, phi_hess, alpha0, epsilon=1e-8, max_iter=1000):\n",
    "    alpha = np.empty(max_iter + 1)\n",
    "\n",
    "    alpha_old = alpha0\n",
    "    for i in range(max_iter):\n",
    "        alpha = alpha_old - phi_grad(alpha_old) / phi_hess(alpha_old)\n",
    "\n",
    "        if abs(alpha - alpha_old) < epsilon:\n",
    "            break\n",
    "        alpha_old = alpha\n",
    "\n",
    "    return alpha\n"
   ]
  },
  {
   "cell_type": "markdown",
   "metadata": {},
   "source": [
    "容易得到\n",
    "$$\\phi^{\\prime}\\left(\\alpha\\right)=\\left(2\\alpha^{2}-1\\right)e^{-\\alpha^{2}}$$\n",
    "$$\\phi^{\\prime\\prime}\\left(\\alpha\\right)=\\left(-4\\alpha^{3}+6\\alpha\\right)e^{-\\alpha^{2}}$$"
   ]
  },
  {
   "cell_type": "code",
   "execution_count": 21,
   "metadata": {},
   "outputs": [],
   "source": [
    "def phi_grad(alpha):\n",
    "    return (2 * alpha ** 2 - 1) * np.exp(- alpha ** 2)\n",
    "\n",
    "\n",
    "def phi_hess(alpha):\n",
    "    return (- 4 * alpha ** 3 + 6 * alpha) * np.exp(- alpha ** 2)\n"
   ]
  },
  {
   "cell_type": "code",
   "execution_count": 22,
   "metadata": {},
   "outputs": [
    {
     "name": "stdout",
     "output_type": "stream",
     "text": [
      "Iter 00: alpha 0.50\n",
      "Iter 01: alpha 0.70\n",
      "Iter 02: alpha 0.71\n",
      "Optimal alpha is 0.71\n"
     ]
    }
   ],
   "source": [
    "alpha = search_step_length_newton(phi, phi_grad, phi_hess, 1, epsilon=1e-2)\n",
    "print(\"Optimal alpha is %.2f\" % (alpha))"
   ]
  },
  {
   "cell_type": "code",
   "execution_count": 23,
   "metadata": {},
   "outputs": [
    {
     "name": "stdout",
     "output_type": "stream",
     "text": [
      "Optimal alpha is 0.71\n"
     ]
    }
   ],
   "source": [
    "alpha = search_step_length_newton_adv(phi, phi_grad, phi_hess, 1, epsilon=1e-2)\n",
    "print(\"Optimal alpha is %.2f\" % (alpha))"
   ]
  },
  {
   "cell_type": "markdown",
   "metadata": {},
   "source": [
    "## 线搜索方法实例"
   ]
  },
  {
   "cell_type": "markdown",
   "metadata": {},
   "source": [
    "考虑经典的 RosenBrock 函数\n",
    "$$\n",
    "f(x, y)=100\\left(y-x^{2}\\right)^{2}+(1-x)^{2}\n",
    "$$\n",
    "并以其负梯度方向作为下降方向\n",
    "$$\n",
    "-\\nabla f=-\\left(\\begin{array}{c}\n",
    "400 x^{3}-400 x y+2 x-2 \\\\\n",
    "200\\left(y-x^{2}\\right)\n",
    "\\end{array}\\right)\n",
    "$$"
   ]
  },
  {
   "cell_type": "code",
   "execution_count": 24,
   "metadata": {},
   "outputs": [],
   "source": [
    "def rosenbrock(x):\n",
    "    return 100 * (x[1] - x[0]**2) ** 2 + (1 - x[0]) ** 2"
   ]
  },
  {
   "cell_type": "code",
   "execution_count": 25,
   "metadata": {},
   "outputs": [],
   "source": [
    "def search_desc_direction_rosenbrock(x):\n",
    "    return - np.array([\n",
    "        400 * x[0] ** 3 - 400 * x[0] * x[1] + 2 * x[0] - 2,\n",
    "        200 * (x[1] - x[0]**2)\n",
    "    ])\n"
   ]
  },
  {
   "cell_type": "code",
   "execution_count": 32,
   "metadata": {},
   "outputs": [],
   "source": [
    "def unconstrained_optimize(f, x0, epsilon=1e-6, max_iter=1000):\n",
    "    x_old = x0\n",
    "    for i in range(max_iter):\n",
    "        d = search_desc_direction_rosenbrock(x_old)  # 确定下降方向\n",
    "\n",
    "        def phi(alpha): return f(x_old + alpha * d)\n",
    "        a, b = search_unimodal_interval_adv(phi, 2)\n",
    "        alpha = search_step_length_gold_adv(phi, a, b)  # 确定最优步长\n",
    "\n",
    "        x = x_old + alpha * d\n",
    "\n",
    "        print(\"Iter %d: x (%.2f, %.2f), f %.2f\" % (i, x[0], x[1], f(x)))\n",
    "        # if np.linalg.norm(g(x)) <= epsilon:\n",
    "        # if f(x_old) - f(x) <= epsilon:\n",
    "        if np.linalg.norm(x_old - x) <= epsilon:\n",
    "            break\n",
    "        x_old = x\n",
    "        \n",
    "\n",
    "    return x, f(x)\n"
   ]
  },
  {
   "cell_type": "code",
   "execution_count": null,
   "metadata": {
    "scrolled": true
   },
   "outputs": [],
   "source": [
    "x, fval = unconstrained_optimize(rosenbrock, np.array([0, 0]), max_iter=5000)\n"
   ]
  },
  {
   "cell_type": "code",
   "execution_count": 34,
   "metadata": {},
   "outputs": [
    {
     "name": "stdout",
     "output_type": "stream",
     "text": [
      "[0.99956324 0.99912667] 1.9075997174939612e-07\n"
     ]
    }
   ],
   "source": [
    "print(x, fval)"
   ]
  },
  {
   "cell_type": "code",
   "execution_count": null,
   "metadata": {},
   "outputs": [],
   "source": []
  }
 ],
 "metadata": {
  "interpreter": {
   "hash": "5a49cefac6a1ca453d6dbb2e55c8b4e60d57185808cb88c9a8aea17ed4174748"
  },
  "kernelspec": {
   "display_name": "Python 3 (ipykernel)",
   "language": "python",
   "name": "python3"
  },
  "language_info": {
   "codemirror_mode": {
    "name": "ipython",
    "version": 3
   },
   "file_extension": ".py",
   "mimetype": "text/x-python",
   "name": "python",
   "nbconvert_exporter": "python",
   "pygments_lexer": "ipython3",
   "version": "3.9.7"
  }
 },
 "nbformat": 4,
 "nbformat_minor": 2
}
